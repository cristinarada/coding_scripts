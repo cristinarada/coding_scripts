{
 "cells": [
  {
   "cell_type": "markdown",
   "metadata": {},
   "source": [
    "##### NUMERICAL DATASET W NUMPY"
   ]
  },
  {
   "cell_type": "markdown",
   "metadata": {},
   "source": [
    "##Imports"
   ]
  },
  {
   "cell_type": "code",
   "execution_count": null,
   "metadata": {
    "collapsed": true
   },
   "outputs": [],
   "source": [
    "import numpy as np\n",
    "import matplotlib.pyplot as plt\n",
    "import matplotlib as mpl\n",
    "from cycler import cycler\n",
    "from scipy import stats"
   ]
  },
  {
   "cell_type": "code",
   "execution_count": null,
   "metadata": {
    "collapsed": false
   },
   "outputs": [],
   "source": [
    "data1= np.loadtxt(fname ='lipofuscin.csv', delimiter= ',')\n",
    "data1"
   ]
  },
  {
   "cell_type": "code",
   "execution_count": null,
   "metadata": {
    "collapsed": false
   },
   "outputs": [],
   "source": [
    "#slice cut the first column which will become my x\n",
    "small_data1= (data1[:, 0]) # data([row, column])\n",
    "small_data1"
   ]
  },
  {
   "cell_type": "code",
   "execution_count": null,
   "metadata": {
    "collapsed": false
   },
   "outputs": [],
   "source": [
    "#slice cut the second column which will become my y\n",
    "small_data2= (data1[:, 1])\n",
    "small_data2"
   ]
  },
  {
   "cell_type": "code",
   "execution_count": null,
   "metadata": {
    "collapsed": false,
    "scrolled": true
   },
   "outputs": [],
   "source": [
    "#SCATTERPLOT\n",
    "graph = plt.figure()\n",
    "plt.plot(small_data1, small_data2, 'r+')\n",
    "graph.suptitle('lipofuscin_age correlation')\n",
    "plt.xlabel('age')\n",
    "plt.ylabel('lipofuscin')\n",
    "plt.show()"
   ]
  },
  {
   "cell_type": "code",
   "execution_count": null,
   "metadata": {
    "collapsed": false,
    "scrolled": true
   },
   "outputs": [],
   "source": [
    "plt.style.available"
   ]
  },
  {
   "cell_type": "code",
   "execution_count": null,
   "metadata": {
    "collapsed": true
   },
   "outputs": [],
   "source": [
    "plt.style.use('ggplot')\n"
   ]
  },
  {
   "cell_type": "code",
   "execution_count": null,
   "metadata": {
    "collapsed": false
   },
   "outputs": [],
   "source": [
    "graph2 = plt.figure()\n",
    "plt.plot(small_data1, small_data2, 'r+')\n",
    "graph.suptitle('lipofuscin_age correlation')\n",
    "plt.xlabel('age')\n",
    "plt.ylabel('lipofuscin')\n",
    "plt.show()"
   ]
  },
  {
   "cell_type": "code",
   "execution_count": null,
   "metadata": {
    "collapsed": false
   },
   "outputs": [],
   "source": [
    "#HISTOGRAM\n",
    "x = (small_data1)\n",
    "plt.hist(x, bins=50)\n",
    "plt.show()"
   ]
  },
  {
   "cell_type": "code",
   "execution_count": null,
   "metadata": {
    "collapsed": false
   },
   "outputs": [],
   "source": [
    "fig = plt.figure()\n",
    "#plt.scatter(data1[small_data1], [small_data2], color='g')\n",
    "plt.scatter(small_data1, small_data2, color='g')\n",
    "\n",
    "m, b = np.polyfit(small_data1, small_data2, 1)\n",
    "plt.title('lipofuscin_age correlation')\n",
    "plt.xlabel('age')\n",
    "plt.ylabel('lipofuscin')\n",
    "plt.plot(small_data1, m*small_data1 + b)\n",
    "plt.show()\n"
   ]
  },
  {
   "cell_type": "markdown",
   "metadata": {},
   "source": [
    "##### NUMERICAL AND STRINGS DATASETS WITH PANDAS"
   ]
  },
  {
   "cell_type": "markdown",
   "metadata": {},
   "source": [
    "##### Imports"
   ]
  },
  {
   "cell_type": "code",
   "execution_count": 1,
   "metadata": {
    "collapsed": false
   },
   "outputs": [
    {
     "ename": "ImportError",
     "evalue": "No module named seaborn",
     "output_type": "error",
     "traceback": [
      "\u001b[1;31m---------------------------------------------------------------------------\u001b[0m",
      "\u001b[1;31mImportError\u001b[0m                               Traceback (most recent call last)",
      "\u001b[1;32m<ipython-input-1-73caf2edff15>\u001b[0m in \u001b[0;36m<module>\u001b[1;34m()\u001b[0m\n\u001b[0;32m      1\u001b[0m \u001b[1;32mimport\u001b[0m \u001b[0mpandas\u001b[0m \u001b[1;32mas\u001b[0m \u001b[0mpd\u001b[0m\u001b[1;33m\u001b[0m\u001b[0m\n\u001b[1;32m----> 2\u001b[1;33m \u001b[1;32mimport\u001b[0m \u001b[0mseaborn\u001b[0m \u001b[1;32mas\u001b[0m \u001b[0msns\u001b[0m\u001b[1;33m\u001b[0m\u001b[0m\n\u001b[0m",
      "\u001b[1;31mImportError\u001b[0m: No module named seaborn"
     ]
    }
   ],
   "source": [
    "import pandas as pd\n",
    "import seaborn as sns"
   ]
  },
  {
   "cell_type": "code",
   "execution_count": 2,
   "metadata": {
    "collapsed": true
   },
   "outputs": [],
   "source": [
    "path = \"C:/Users/svc_multipatch/Desktop/Cri/Github/coding_scripts/csv/\""
   ]
  },
  {
   "cell_type": "code",
   "execution_count": null,
   "metadata": {
    "collapsed": true
   },
   "outputs": [],
   "source": [
    "data2 = pd.read_csv(path + 'lipofuscin.csv')"
   ]
  },
  {
   "cell_type": "code",
   "execution_count": 3,
   "metadata": {
    "collapsed": true
   },
   "outputs": [],
   "source": [
    "data2 = pd.read_csv('lipofuscin.csv')"
   ]
  },
  {
   "cell_type": "code",
   "execution_count": 4,
   "metadata": {
    "collapsed": false
   },
   "outputs": [
    {
     "ename": "NameError",
     "evalue": "name 'plt' is not defined",
     "output_type": "error",
     "traceback": [
      "\u001b[1;31m---------------------------------------------------------------------------\u001b[0m",
      "\u001b[1;31mNameError\u001b[0m                                 Traceback (most recent call last)",
      "\u001b[1;32m<ipython-input-4-7c2b5aa640f1>\u001b[0m in \u001b[0;36m<module>\u001b[1;34m()\u001b[0m\n\u001b[1;32m----> 1\u001b[1;33m \u001b[0mplt\u001b[0m\u001b[1;33m.\u001b[0m\u001b[0mstyle\u001b[0m\u001b[1;33m.\u001b[0m\u001b[0muse\u001b[0m \u001b[1;33m(\u001b[0m\u001b[1;34m'seaborn-dark'\u001b[0m\u001b[1;33m)\u001b[0m\u001b[1;33m\u001b[0m\u001b[0m\n\u001b[0m",
      "\u001b[1;31mNameError\u001b[0m: name 'plt' is not defined"
     ]
    }
   ],
   "source": [
    "plt.style.use ('seaborn-dark')"
   ]
  },
  {
   "cell_type": "code",
   "execution_count": null,
   "metadata": {
    "collapsed": false
   },
   "outputs": [],
   "source": [
    "fig = plt.figure()\n",
    "plt.scatter(small_data1, small_data2, color='r')\n",
    "\n",
    "reg_line = sns.regplot(small_data1, small_data2, color=\"r\")\n",
    "plt.scatter(small_data1, small_data2, color='r')\n",
    "\n",
    "plt.title('lipofuscin_age correlation')\n",
    "plt.xlabel('age')\n",
    "plt.ylabel('lipofuscin')\n",
    "plt.plot(small_data1, m*small_data1 + b)\n",
    "plt.show()"
   ]
  },
  {
   "cell_type": "code",
   "execution_count": null,
   "metadata": {
    "collapsed": false,
    "scrolled": true
   },
   "outputs": [],
   "source": [
    "ax = sns.regplot(x=small_data1, y=small_data2, x_bins=4)\n",
    "plt.xlabel('age')\n",
    "plt.ylabel('lipofuscin')"
   ]
  },
  {
   "cell_type": "code",
   "execution_count": null,
   "metadata": {
    "collapsed": false
   },
   "outputs": [],
   "source": [
    "#to find regression line r coeffcient\n",
    "x = [small_data1]\n",
    "y = [small_data2]\n",
    "\n",
    "correlation_matrix = np.corrcoef(small_data1, small_data2)\n",
    "correlation_xy = correlation_matrix[0,1]\n",
    "r = correlation_xy\n",
    "\n",
    "print(r)"
   ]
  },
  {
   "cell_type": "code",
   "execution_count": null,
   "metadata": {
    "collapsed": false
   },
   "outputs": [],
   "source": [
    "#to fins r (Pearson coeff) and p-value:\n",
    "\n",
    "cool = sns.JointGrid(small_data1, small_data2, data=data2)\n",
    "cool = cool.plot_joint(sns.scatterplot, color=\".5\")\n",
    "cool = cool.plot_marginals(sns.distplot, kde=False, color=\".5\")\n",
    "cool.annotate(stats.pearsonr)"
   ]
  },
  {
   "cell_type": "code",
   "execution_count": null,
   "metadata": {
    "collapsed": false
   },
   "outputs": [],
   "source": [
    "cool = sns.JointGrid(small_data1, small_data2, data=data2, space=0)\n",
    "cool = cool.plot_joint(sns.kdeplot, cmap=\"Blues_d\")\n",
    "cool = cool.plot_marginals(sns.kdeplot, shade=True)"
   ]
  },
  {
   "cell_type": "code",
   "execution_count": null,
   "metadata": {
    "collapsed": false
   },
   "outputs": [],
   "source": [
    "cool = sns.JointGrid(small_data1, small_data2, data=data2,\n",
    "                  height=5, ratio=2, xlim=(0, 90), ylim=(0, 6))\n",
    "cool = cool.plot_joint(sns.kdeplot, cmap=\"Reds_d\")\n",
    "cool = cool.plot_marginals(sns.kdeplot, color=\"r\", shade=True)\n",
    "cool.annotate(stats.pearsonr)"
   ]
  },
  {
   "cell_type": "markdown",
   "metadata": {},
   "source": [
    "##### New dataset"
   ]
  },
  {
   "cell_type": "code",
   "execution_count": null,
   "metadata": {
    "collapsed": false
   },
   "outputs": [],
   "source": [
    "collection = pd.read_csv('filerandom.csv')\n",
    "collection.head()"
   ]
  },
  {
   "cell_type": "code",
   "execution_count": null,
   "metadata": {
    "collapsed": false
   },
   "outputs": [],
   "source": [
    "sns.swarmplot(x='nucleus', y='score', data=collection)\n",
    "plt.ylabel('r_score')"
   ]
  },
  {
   "cell_type": "code",
   "execution_count": null,
   "metadata": {
    "collapsed": false
   },
   "outputs": [],
   "source": [
    "sns.scatterplot(x='nucleus', y='score', data=collection)"
   ]
  },
  {
   "cell_type": "code",
   "execution_count": null,
   "metadata": {
    "collapsed": false
   },
   "outputs": [],
   "source": [
    "sns.barplot(x='nucleus', y='score', data=collection)"
   ]
  },
  {
   "cell_type": "code",
   "execution_count": null,
   "metadata": {
    "collapsed": false
   },
   "outputs": [],
   "source": [
    "sns.violinplot(x='nucleus', y='score', data=collection)"
   ]
  },
  {
   "cell_type": "markdown",
   "metadata": {},
   "source": [
    "##### New dataset"
   ]
  },
  {
   "cell_type": "code",
   "execution_count": null,
   "metadata": {
    "collapsed": true,
    "scrolled": true
   },
   "outputs": [],
   "source": [
    "new = pd.read_csv('patchseq.csv')"
   ]
  },
  {
   "cell_type": "code",
   "execution_count": null,
   "metadata": {
    "collapsed": false
   },
   "outputs": [],
   "source": [
    "new.head()"
   ]
  },
  {
   "cell_type": "code",
   "execution_count": null,
   "metadata": {
    "collapsed": false
   },
   "outputs": [],
   "source": [
    "sns.catplot(x='Tree_call_label', y='res_index_label', jitter= False, data=new, palette=\"Greens_d\")"
   ]
  },
  {
   "cell_type": "code",
   "execution_count": null,
   "metadata": {
    "collapsed": false
   },
   "outputs": [],
   "source": [
    "sns.catplot(x=\"Tree_call_label\", y=\"res_index_label\", hue=\"postPatch_label\", order=[\"Core\", \"I1\", \"I2\",\"PoorQ\"], jitter= False, data=new)"
   ]
  },
  {
   "cell_type": "code",
   "execution_count": null,
   "metadata": {
    "collapsed": false
   },
   "outputs": [],
   "source": [
    "# sns.countplot(y='res_index_label', hue='postPatch_label', data=new, palette=\"Greens_d\")\n",
    "sns.violinplot(x='Tree_call_label', y='res_index_label', order=[\"Core\", \"I1\", \"I2\",\"PoorQ\"], data=new, palette=\"Blues_d\") #scale= 'count')"
   ]
  },
  {
   "cell_type": "code",
   "execution_count": null,
   "metadata": {
    "collapsed": false
   },
   "outputs": [],
   "source": [
    "cat = sns.catplot(x=\"Tree_call_label\", y=\"res_index_label\", kind=\"violin\", inner=None, data=new)\n",
    "sns.swarmplot(x=\"Tree_call_label\", y=\"res_index_label\", color=\"k\", size=2, data=new, ax=cat.ax)"
   ]
  },
  {
   "cell_type": "code",
   "execution_count": null,
   "metadata": {
    "collapsed": false
   },
   "outputs": [],
   "source": [
    "sns.catplot(x=\"Tree_call_label\", y=\"res_index_label\", hue= 'postPatch_label', height=4.27, aspect=11.7/8.27, order= [\"Core\", \"I1\", \"I2\",\"PoorQ\"],\n",
    "            kind=\"violin\", split=True, data=new)\n"
   ]
  },
  {
   "cell_type": "code",
   "execution_count": null,
   "metadata": {
    "collapsed": false
   },
   "outputs": [],
   "source": [
    "sns.catplot(x=\"Tree_call_label\", y=\"marker_sum_norm_label\", hue=\"postPatch_label\", order=[\"Core\", \"I1\", \"I2\",\"PoorQ\"], jitter= False, data=new)"
   ]
  },
  {
   "cell_type": "code",
   "execution_count": null,
   "metadata": {
    "collapsed": false
   },
   "outputs": [],
   "source": [
    "sns.catplot(x=\"Tree_call_label\", y=\"marker_sum_norm_label\", hue= 'postPatch_label', order= [\"Core\", \"I1\", \"I2\",\"PoorQ\"],\n",
    "            kind=\"violin\", split=True, data=new);"
   ]
  },
  {
   "cell_type": "code",
   "execution_count": null,
   "metadata": {
    "collapsed": false
   },
   "outputs": [],
   "source": [
    "q= sns.violinplot(x='Tree_call_label', y='res_index_label', order=[\"Core\", \"I1\", \"I2\",\"PoorQ\"], data=new, palette=\"Blues_d\") #scale= 'count')\n",
    "sns.swarmplot(x=\"Tree_call_label\", y=\"res_index_label\", color=\"k\", size=2, data=new, ax=q.ax)"
   ]
  },
  {
   "cell_type": "code",
   "execution_count": null,
   "metadata": {
    "collapsed": false,
    "scrolled": true
   },
   "outputs": [],
   "source": [
    "#to change size and aspect\n",
    "\n",
    "sns.catplot(data=new, x='Tree_call_label', y='res_index_label', \n",
    "    hue='postPatch_label', height=4.27, aspect=11.7/8.27)"
   ]
  },
  {
   "cell_type": "code",
   "execution_count": null,
   "metadata": {
    "collapsed": false
   },
   "outputs": [],
   "source": [
    "a = sns.violinplot(x=\"Tree_call_label\", y=\"res_index_label\", jitter= False, data=new, inner=None, scale= 'count')\n",
    "ax = sns.swarmplot(x=\"Tree_call_label\", y=\"res_index_label\", data=new, color=\"white\", edgecolor=\"gray\")"
   ]
  },
  {
   "cell_type": "markdown",
   "metadata": {},
   "source": [
    "##### New dataset"
   ]
  },
  {
   "cell_type": "code",
   "execution_count": null,
   "metadata": {
    "collapsed": true
   },
   "outputs": [],
   "source": [
    "set= pd.read_csv ('filerandom_2.csv')"
   ]
  },
  {
   "cell_type": "code",
   "execution_count": null,
   "metadata": {
    "collapsed": false
   },
   "outputs": [],
   "source": [
    "set.head()"
   ]
  },
  {
   "cell_type": "code",
   "execution_count": null,
   "metadata": {
    "collapsed": false
   },
   "outputs": [],
   "source": [
    "sns.catplot(x= 'Tree_call_label', y= 'marker_sum_norm_label', order= [\"I1\", \"Core\"], data=set)"
   ]
  },
  {
   "cell_type": "code",
   "execution_count": null,
   "metadata": {
    "collapsed": false
   },
   "outputs": [],
   "source": [
    "sns.catplot(x= 'Tree_call_label', y= 'marker_sum_norm_label', hue=\"postPatch_label\", kind=\"swarm\", data=set);"
   ]
  },
  {
   "cell_type": "code",
   "execution_count": null,
   "metadata": {
    "collapsed": false
   },
   "outputs": [],
   "source": [
    "sns.catplot(x=\"Tree_call_label\", y=\"marker_sum_norm_label\", kind=\"box\", data=set)"
   ]
  },
  {
   "cell_type": "code",
   "execution_count": null,
   "metadata": {
    "collapsed": false
   },
   "outputs": [],
   "source": [
    "plt.style.use ('ggplot')\n",
    "sns.catplot(x=\"Tree_call_label\", y=\"marker_sum_norm_label\", hue=\"postPatch_label\", kind=\"box\", data=set)"
   ]
  },
  {
   "cell_type": "code",
   "execution_count": null,
   "metadata": {
    "collapsed": false
   },
   "outputs": [],
   "source": [
    "sns.catplot(x= 'Tree_call_label', y= 'res_index_label', jitter= False, data=set)\n",
    "plt.style.use ('ggplot')"
   ]
  },
  {
   "cell_type": "code",
   "execution_count": null,
   "metadata": {
    "collapsed": false
   },
   "outputs": [],
   "source": [
    "sns.set_style('ticks')\n",
    "fig, ax = plt.subplots()\n",
    "sns.violinplot(x= 'Tree_call_label', y= 'marker_sum_norm_label', data=set, inner=\"points\", ax=ax, scale= 'count')    \n",
    "sns.despine()"
   ]
  },
  {
   "cell_type": "code",
   "execution_count": null,
   "metadata": {
    "collapsed": false
   },
   "outputs": [],
   "source": [
    "t = sns.PairGrid(set, vars=['marker_sum_norm_label', 'res_index_label'],\n",
    "                 hue='Tree_call_label', palette='RdBu_r')\n",
    "t.map(plt.scatter, alpha=0.8)\n",
    "t.add_legend();\n",
    "\n"
   ]
  },
  {
   "cell_type": "code",
   "execution_count": null,
   "metadata": {
    "collapsed": false
   },
   "outputs": [],
   "source": [
    "#another way to combine two different plots:\n",
    "\n",
    "sns.violinplot(x='Tree_call_label',\n",
    "               y='marker_sum_norm_label', \n",
    "               data=set, \n",
    "               inner=None, # Remove the bars inside the violins\n",
    "               palette='rocket_r')\n",
    " \n",
    "sns.swarmplot(x='Tree_call_label', \n",
    "              y='marker_sum_norm_label', \n",
    "              data=set, \n",
    "              color='k', # Make points black\n",
    "              alpha=0.7) # and slightly transparent\n",
    " \n",
    "# Set title with matplotlib\n",
    "plt.title('Tree_call')"
   ]
  },
  {
   "cell_type": "code",
   "execution_count": null,
   "metadata": {
    "collapsed": true
   },
   "outputs": [],
   "source": [
    "\n",
    "# Joint Distribution Plot\n",
    "#sns.jointplot(x='Tree_call_label', y='marker_sum_norm_label', data=set)"
   ]
  },
  {
   "cell_type": "code",
   "execution_count": null,
   "metadata": {
    "collapsed": false
   },
   "outputs": [],
   "source": [
    "from scipy import stats\n",
    "sns.boxplot(x=\"Tree_call_label\", y=\"marker_sum_norm_label\", data=set, palette=\"PRGn\")\n",
    "\n",
    "# statistical annotation\n",
    "x1, x2 = (0, 1)   # columns 'Sat' and 'Sun' (first column: 0, see plt.xticks())\n",
    "y, h, col = set['marker_sum_norm_label'].max() + 1, 1, 'k'\n",
    "plt.plot([x1, x1, x2, x2], [y, y+h, y+h, y], lw=0.5, c=col)\n",
    "plt.text((x1+x2)*.5, y+h, \"ns\", ha='center', va='bottom', color=col)\n",
    "\n",
    "plt.show()"
   ]
  },
  {
   "cell_type": "code",
   "execution_count": null,
   "metadata": {
    "collapsed": false,
    "scrolled": true
   },
   "outputs": [],
   "source": [
    "from scipy import stats\n",
    "sns.set(style=\"whitegrid\")\n",
    "x = \"Tree_call_label\"\n",
    "y = \"marker_sum_norm_label\"\n",
    "order = ['Core', 'I1']\n",
    "ax = sns.boxplot(data=set, x=x, y=y, order=order)\n",
    "add_stat_annotation(ax, data=set, x=x, y=y, order=order,\n",
    "                    box_pairs=[(\"Core\", \"I1\"), ('I1', \"Core\")],\n",
    "                    test='Mann-Whitney', text_format='star', loc='outside', verbose=2)"
   ]
  },
  {
   "cell_type": "code",
   "execution_count": null,
   "metadata": {
    "collapsed": true
   },
   "outputs": [],
   "source": [
    "from numpy import sqrt, arange\n",
    "from scipy import stats"
   ]
  },
  {
   "cell_type": "code",
   "execution_count": null,
   "metadata": {
    "collapsed": false
   },
   "outputs": [],
   "source": [
    "sample_size = set.shape[0]\n",
    "sample_size"
   ]
  },
  {
   "cell_type": "code",
   "execution_count": null,
   "metadata": {
    "collapsed": false
   },
   "outputs": [],
   "source": [
    "sns.set(style=\"darkgrid\", color_codes=True)\n",
    "r = sns.jointplot('res_index_label', 'marker_sum_norm_label', data = set, kind='reg', height=8)\n",
    "r.annotate(stats.pearsonr)\n",
    "plt.show()"
   ]
  },
  {
   "cell_type": "code",
   "execution_count": null,
   "metadata": {
    "collapsed": false
   },
   "outputs": [],
   "source": [
    "#p-value can only be found with data= float numbers\n",
    "\n",
    "g = sns.JointGrid(x=\"res_index_label\", y=\"marker_sum_norm_label\", data=set)\n",
    "g = g.plot_joint(sns.scatterplot, color=\".5\")\n",
    "g = g.plot_marginals(sns.distplot, kde=False, color=\".5\")\n",
    "g.annotate(stats.pearsonr)"
   ]
  },
  {
   "cell_type": "code",
   "execution_count": null,
   "metadata": {
    "collapsed": false
   },
   "outputs": [],
   "source": [
    "ax = sns.heatmap(data2, vmin=20, vmax=80, center=0)"
   ]
  },
  {
   "cell_type": "markdown",
   "metadata": {},
   "source": [
    "##### New dataset"
   ]
  },
  {
   "cell_type": "code",
   "execution_count": null,
   "metadata": {
    "collapsed": true
   },
   "outputs": [],
   "source": [
    "nuovo= pd.read_csv ('Book7.csv')"
   ]
  },
  {
   "cell_type": "code",
   "execution_count": null,
   "metadata": {
    "collapsed": false
   },
   "outputs": [],
   "source": [
    "nuovo.head()"
   ]
  },
  {
   "cell_type": "code",
   "execution_count": null,
   "metadata": {
    "collapsed": false
   },
   "outputs": [],
   "source": [
    "sns.heatmap(nuovo, vmin=0, vmax=1, center=0)"
   ]
  },
  {
   "cell_type": "code",
   "execution_count": null,
   "metadata": {
    "collapsed": false
   },
   "outputs": [],
   "source": [
    "c = sns.JointGrid('seurat_prediction_score_label', 'marker_sum_norm_label', data=nuovo, space=0)\n",
    "c = c.plot_joint(sns.kdeplot, cmap=\"Blues_d\")\n",
    "c = c.plot_marginals(sns.kdeplot, shade=True)\n",
    "c.annotate(stats.pearsonr)"
   ]
  },
  {
   "cell_type": "code",
   "execution_count": null,
   "metadata": {
    "collapsed": false
   },
   "outputs": [],
   "source": [
    "c = nuovo.pivot(\"seurat_prediction_score_label\", \"marker_sum_norm_label\")\n",
    "ax = sns.heatmap(nuovo, yticklabels=False, vmin=0, vmax=1)\n",
    "\n",
    "\n",
    "#grid_kws = {\"height_ratios\": (.9, .05), \"hspace\": .3}\n",
    "#cbar_kws={\"orientation\": \"horizontal\"}"
   ]
  },
  {
   "cell_type": "code",
   "execution_count": null,
   "metadata": {
    "collapsed": false,
    "scrolled": true
   },
   "outputs": [],
   "source": [
    "ax = sns.heatmap(nuovo, cmap=\"YlGnBu\", yticklabels=False) #cbar=False)"
   ]
  },
  {
   "cell_type": "code",
   "execution_count": null,
   "metadata": {
    "collapsed": false
   },
   "outputs": [],
   "source": [
    "#to extract one column from DataFrame\n",
    "nuovo.marker_sum_norm_label"
   ]
  },
  {
   "cell_type": "code",
   "execution_count": null,
   "metadata": {
    "collapsed": false
   },
   "outputs": [],
   "source": [
    "#to extract two or more columns from DataFrame\n",
    "nuovo[['marker_sum_norm_label', 'seurat_prediction_score_label']]"
   ]
  },
  {
   "cell_type": "code",
   "execution_count": null,
   "metadata": {
    "collapsed": true
   },
   "outputs": [],
   "source": []
  },
  {
   "cell_type": "code",
   "execution_count": null,
   "metadata": {
    "collapsed": true
   },
   "outputs": [],
   "source": []
  }
 ],
 "metadata": {
  "kernelspec": {
   "display_name": "Python 2",
   "language": "python",
   "name": "python2"
  },
  "language_info": {
   "codemirror_mode": {
    "name": "ipython",
    "version": 2
   },
   "file_extension": ".py",
   "mimetype": "text/x-python",
   "name": "python",
   "nbconvert_exporter": "python",
   "pygments_lexer": "ipython2",
   "version": "2.7.13"
  }
 },
 "nbformat": 4,
 "nbformat_minor": 2
}
