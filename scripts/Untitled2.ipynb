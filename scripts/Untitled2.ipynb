{
 "cells": [
  {
   "cell_type": "code",
   "execution_count": null,
   "metadata": {},
   "outputs": [],
   "source": [
    "import pandas as pd\n",
    "import seaborn as sns\n",
    "import matplotlib.pyplot as plt"
   ]
  },
  {
   "cell_type": "code",
   "execution_count": null,
   "metadata": {},
   "outputs": [],
   "source": [
    "from matplotlib import pyplot\n",
    "from mpl_toolkits.mplot3d import Axes3D"
   ]
  },
  {
   "cell_type": "code",
   "execution_count": null,
   "metadata": {},
   "outputs": [],
   "source": [
    "#1st way \n",
    "old= np.loadtxt(fname ='old.csv', delimiter= ',')\n",
    "new= np.loadtxt(fname ='new.csv', delimiter= ',')\n",
    "#these are two ways to open a csv file\n",
    "\n",
    "#2nd way\n",
    "#path = \"C:/Users/svc_multipatch/Desktop/Cri/Github/coding_scripts/csv/\"\n",
    "#old = pd.read_csv(path + 'old.csv')\n",
    "#new = pd.read_csv(path + 'new.csv')"
   ]
  },
  {
   "cell_type": "code",
   "execution_count": null,
   "metadata": {},
   "outputs": [],
   "source": []
  },
  {
   "cell_type": "code",
   "execution_count": null,
   "metadata": {},
   "outputs": [],
   "source": [
    "# %matplotlib notebook\n",
    "plt.rcParams['figure.figsize']=(5,4)\n",
    "plt.rcParams['figure.dpi']=150\n",
    "\n",
    "fig=plt.figure()\n",
    "\n",
    "x='AP_HW'\n",
    "y='AP_500'\n",
    "z='f_AHP'\n",
    "\n",
    "ax= fig.add_subplot (111, projection= '3d')\n",
    "ax.scatter (xs=old[x], ys=old[y], zs=old[z],\n",
    "           s=80, c='black', marker='o', edgecolors= 'black', depthshade= False, label='FS_cells')\n",
    "ax.scatter (xs=new[x], ys=new[y], zs=new[z],\n",
    "           s=80, c='white', marker='o', edgecolors= 'black', depthshade= False, label='Pyramidal_cells')\n",
    "\n",
    "ax.set_xlabel(x)\n",
    "ax.set_ylabel(y)\n",
    "ax.set_zlabel(z)\n",
    "\n",
    "ax.legend()\n",
    "plt.show()"
   ]
  }
 ],
 "metadata": {
  "kernelspec": {
   "display_name": "Python 3",
   "language": "python",
   "name": "python3"
  },
  "language_info": {
   "codemirror_mode": {
    "name": "ipython",
    "version": 3
   },
   "file_extension": ".py",
   "mimetype": "text/x-python",
   "name": "python",
   "nbconvert_exporter": "python",
   "pygments_lexer": "ipython3",
   "version": "3.7.4"
  }
 },
 "nbformat": 4,
 "nbformat_minor": 2
}
