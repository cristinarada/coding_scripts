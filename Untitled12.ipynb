{
 "cells": [
  {
   "cell_type": "code",
   "execution_count": 1,
   "metadata": {},
   "outputs": [],
   "source": [
    "import numpy"
   ]
  },
  {
   "cell_type": "code",
   "execution_count": 2,
   "metadata": {},
   "outputs": [
    {
     "data": {
      "text/plain": [
       "array([[68.,  4.],\n",
       "       [60.,  3.],\n",
       "       [63.,  3.],\n",
       "       [31.,  1.],\n",
       "       [31.,  2.],\n",
       "       [40.,  2.],\n",
       "       [45.,  3.],\n",
       "       [51.,  2.],\n",
       "       [58.,  2.],\n",
       "       [36.,  4.],\n",
       "       [59.,  3.],\n",
       "       [65.,  3.],\n",
       "       [63.,  3.],\n",
       "       [28.,  2.],\n",
       "       [28.,  3.],\n",
       "       [28.,  3.],\n",
       "       [46.,  3.],\n",
       "       [21.,  1.]])"
      ]
     },
     "execution_count": 2,
     "metadata": {},
     "output_type": "execute_result"
    }
   ],
   "source": [
    "numpy.loadtxt(fname= 'lipofuscin.csv', delimiter= ',')"
   ]
  },
  {
   "cell_type": "code",
   "execution_count": 3,
   "metadata": {},
   "outputs": [
    {
     "name": "stdout",
     "output_type": "stream",
     "text": [
      "(18, 2)\n"
     ]
    }
   ],
   "source": [
    "data= numpy.loadtxt(fname= 'lipofuscin.csv', delimiter= ',')\n",
    "print (data.shape)"
   ]
  },
  {
   "cell_type": "code",
   "execution_count": 4,
   "metadata": {},
   "outputs": [],
   "source": [
    "small_data= (data[: ,0])"
   ]
  },
  {
   "cell_type": "code",
   "execution_count": 5,
   "metadata": {},
   "outputs": [
    {
     "data": {
      "text/plain": [
       "array([68., 60., 63., 31., 31., 40., 45., 51., 58., 36., 59., 65., 63.,\n",
       "       28., 28., 28., 46., 21.])"
      ]
     },
     "execution_count": 5,
     "metadata": {},
     "output_type": "execute_result"
    }
   ],
   "source": [
    "small_data"
   ]
  },
  {
   "cell_type": "code",
   "execution_count": 6,
   "metadata": {},
   "outputs": [],
   "source": [
    "small_data2= (data[: ,1])"
   ]
  },
  {
   "cell_type": "code",
   "execution_count": 7,
   "metadata": {},
   "outputs": [
    {
     "data": {
      "text/plain": [
       "<Figure size 640x480 with 1 Axes>"
      ]
     },
     "metadata": {},
     "output_type": "display_data"
    }
   ],
   "source": [
    "import matplotlib.pyplot as plt\n",
    "\n",
    "fig = plt.figure()\n",
    "\n",
    "plt.scatter(small_data, small_data2, color='g')\n",
    "#plt.scatter(small_data, small_data3, color='r') when Meanhwan puts his score\n",
    "plt.xlabel('age')\n",
    "plt.ylabel('lipofuscin')\n",
    "plt.show()"
   ]
  },
  {
   "cell_type": "code",
   "execution_count": 10,
   "metadata": {},
   "outputs": [
    {
     "data": {
      "image/png": "[encoded data removed]",
      "text/plain": [
       "<Figure size 432x288 with 1 Axes>"
      ]
     },
     "metadata": {
      "needs_background": "light"
     },
     "output_type": "display_data"
    }
   ],
   "source": [
    "import seaborn as sns\n",
    "import matplotlib.pyplot as plt\n",
    "\n",
    "fig = plt.figure()\n",
    "plt.scatter(small_data, small_data2, color='g')\n",
    "\n",
    "m, b = numpy.polyfit(small_data, small_data2, 1)\n",
    "plt.title('lipofuscin_age correlation')\n",
    "plt.xlabel('age')\n",
    "plt.ylabel('lipofuscin')\n",
    "plt.plot(small_data, m*small_data + b)\n",
    "plt.show()"
   ]
  },
  {
   "cell_type": "code",
   "execution_count": 11,
   "metadata": {},
   "outputs": [
    {
     "data": {
      "image/png": "[encoded data removed]",
      "text/plain": [
       "<Figure size 432x288 with 1 Axes>"
      ]
     },
     "metadata": {
      "needs_background": "light"
     },
     "output_type": "display_data"
    }
   ],
   "source": [
    "import seaborn as sns\n",
    "import matplotlib.pyplot as plt\n",
    "\n",
    "fig = plt.figure()\n",
    "plt.scatter(small_data, small_data2, color='r')\n",
    "\n",
    "reg_line = sns.regplot(small_data, small_data2, color=\"b\")\n",
    "plt.scatter(small_data, small_data2, color='r')\n",
    "\n",
    "plt.title('lipofuscin_age correlation')\n",
    "plt.xlabel('age')\n",
    "plt.ylabel('lipofuscin')\n",
    "plt.plot(small_data, m*small_data + b)\n",
    "plt.show()"
   ]
  },
  {
   "cell_type": "code",
   "execution_count": 14,
   "metadata": {},
   "outputs": [
    {
     "ename": "ModuleNotFoundError",
     "evalue": "No module named 'aisynphys'",
     "output_type": "error",
     "traceback": [
      "\u001b[1;31m---------------------------------------------------------------------------\u001b[0m",
      "\u001b[1;31mModuleNotFoundError\u001b[0m                       Traceback (most recent call last)",
      "\u001b[1;32m<ipython-input-14-dc7f0ddf3fad>\u001b[0m in \u001b[0;36m<module>\u001b[1;34m\u001b[0m\n\u001b[0;32m      1\u001b[0m \u001b[1;32mimport\u001b[0m \u001b[0mpandas\u001b[0m \u001b[1;32mas\u001b[0m \u001b[0mpd\u001b[0m\u001b[1;33m\u001b[0m\u001b[1;33m\u001b[0m\u001b[0m\n\u001b[0;32m      2\u001b[0m \u001b[1;33m\u001b[0m\u001b[0m\n\u001b[1;32m----> 3\u001b[1;33m \u001b[1;32mfrom\u001b[0m \u001b[0maisynphys\u001b[0m\u001b[1;33m.\u001b[0m\u001b[0mexperiment_list\u001b[0m \u001b[1;32mimport\u001b[0m \u001b[0mcached_experiments\u001b[0m\u001b[1;33m\u001b[0m\u001b[1;33m\u001b[0m\u001b[0m\n\u001b[0m\u001b[0;32m      4\u001b[0m \u001b[1;33m\u001b[0m\u001b[0m\n\u001b[0;32m      5\u001b[0m \u001b[1;33m\u001b[0m\u001b[0m\n",
      "\u001b[1;31mModuleNotFoundError\u001b[0m: No module named 'aisynphys'"
     ]
    }
   ],
   "source": [
    "import pandas as pd\n",
    "\n",
    "from aisynphys.experiment_list import cached_experiments\n",
    "\n",
    "\n",
    "expts = cached_experiments()\n",
    "\n",
    "\n",
    "pd.mkQApp()\n",
    "pd.dbg()\n",
    "\n",
    "pd.setConfigOption('background', 'w')\n",
    "pd.setConfigOption('foreground', 'k')\n",
    "\n",
    "in_types = ['pvalb', 'sst', 'vip']\n",
    "ex_types = ['sim1', 'tlx3']\n",
    "\n",
    "# plot = pg.plot()\n",
    "# plot.addLegend()\n",
    "# expts.distance_plot(None, None, plots=(plot, None), color=(0, 0, 0), name=u\"all\")\n",
    "# expts.distance_plot(ex_types, ex_types, plots=(plot, None), color=(0, 150, 255), name=u\"ex → ex\")\n",
    "# expts.distance_plot(ex_types, in_types, plots=(plot, None), color=(200, 100, 255), name=u\"ex → in\")\n",
    "# expts.distance_plot(in_types, ex_types, plots=(plot, None), color=(200, 0, 255), name=u\"in → ex\")\n",
    "# expts.distance_plot(in_types, in_types, plots=(plot, None), color=(0, 200, 0), name=u\"in → in\")\n",
    "# # expts.distance_plot(connection_types=[('pvalb', 'sst'), ('pvalb', 'vip'), ('sst', 'pvalb'), ('sst', 'sst'), ('sst', 'vip'), ('vip', 'pvalb'), ('vip', 'sst'), ('vip', 'vip')], plots=(plot, None), color=(200, 0, 0), name=u\"notpv → notpv\")\n",
    "# plot.setXRange(20e-6, 200e-6)\n",
    "# plot.setYRange(0, 0.3)\n",
    "\n",
    "\n",
    "# plots = expts.distance_plot('sim1', 'pvalb', color=(0, 150, 255))\n",
    "# expts.distance_plot('sim1', 'sst', plots=plots, color=(0, 150, 255))\n",
    "# expts.distance_plot('sim1', 'vip', plots=plots, color=(0, 150, 255))\n",
    "# expts.distance_plot('tlx3', 'pvalb', plots=plots, color=(0, 150, 255))\n",
    "# expts.distance_plot('tlx3', 'sst', plots=plots, color=(0, 150, 255))\n",
    "# expts.distance_plot('tlx3', 'vip', plots=plots, color=(0, 150, 255))\n",
    "\n",
    "# plots = expts.distance_plot('pvalb', 'pvalb', color=(0, 150, 255))\n",
    "# expts.distance_plot('pvalb', 'sst', plots=plots, color=(0, 150, 255))\n",
    "# expts.distance_plot('pvalb', 'vip', plots=plots, color=(0, 150, 255))\n",
    "# expts.distance_plot('sst', 'pvalb', plots=plots, color=(0, 150, 255))\n",
    "# expts.distance_plot('sst', 'sst', plots=plots, color=(0, 150, 255))\n",
    "# # expts.distance_plot('sst', 'vip', plots=plots, color=(0, 150, 255))\n",
    "# expts.distance_plot('vip', 'pvalb', plots=plots, color=(0, 150, 255))\n",
    "# # expts.distance_plot('vip', 'sst', plots=plots, color=(0, 150, 255))\n",
    "# expts.distance_plot('vip', 'vip', plots=plots, color=(0, 150, 255))\n",
    "\n",
    "# plots = expts.distance_plot('pvalb', 'sim1', color=(0, 150, 255))\n",
    "# expts.distance_plot('pvalb', 'tlx3', plots=plots, color=(0, 150, 255))\n",
    "# expts.distance_plot('sst', 'sim1', plots=plots, color=(0, 150, 255))\n",
    "# expts.distance_plot('sst', 'tlx3', plots=plots, color=(0, 150, 255))\n",
    "# expts.distance_plot('vip', 'sim1', plots=plots, color=(0, 150, 255))\n",
    "# expts.distance_plot('vip', 'tlx3', plots=plots, color=(0, 150, 255))\n",
    "\n",
    "\n",
    "\n",
    "# plot2 = pg.plot()\n",
    "# plot2.addLegend()\n",
    "# # expts.distance_plot(None, None, plots=(plot2, None), color=(0, 0, 0), name=u\"all\")\n",
    "# expts.distance_plot('sim1', 'sim1', plots=(plot2, None), color=(0, 150, 255))\n",
    "# expts.distance_plot('tlx3', 'tlx3', plots=(plot2, None), color=(200, 100, 0))\n",
    "# expts.distance_plot('pvalb', 'pvalb', plots=(plot2, None), color=(200, 0, 200))\n",
    "# # expts.distance_plot(ex_types, in_types, plots=(plot2, None), color=(0, 0, 200), name=u\"ex → in\")\n",
    "# # expts.distance_plot(in_types, ex_types, plots=(plot2, None), color=(0, 0, 200), name=u\"in → ex\")\n",
    "# plot2.setXRange(20e-6, 200e-6)\n",
    "# plot2.setYRange(0, 0.7)\n",
    "\n",
    "\n",
    "# plot3 = pg.plot(title='tlx3 connectivity')\n",
    "# plot3.addLegend()\n",
    "# expts.distance_plot('tlx3', 'tlx3', plots=(plot3, None), color=(0, 150, 255))\n",
    "# expts.distance_plot('tlx3', 'pvalb', plots=(plot3, None), color=(200, 100, 0))\n",
    "# expts.distance_plot('tlx3', 'sst', plots=(plot3, None), color=(200, 0, 200))\n",
    "# # expts.distance_plot('tlx3', 'vip', plots=(plot3, None), color=(0, 200, 0))\n",
    "# plot3.setXRange(20e-6, 200e-6)\n",
    "# plot3.setYRange(0, 0.7)\n",
    "\n",
    "\n",
    "\n",
    "# plot4 = pg.plot()\n",
    "# plot4.addLegend()\n",
    "# i = 0\n",
    "# for pre in in_types+ex_types:\n",
    "#     for post in in_types+ex_types:\n",
    "#         color = pg.intColor(i, 30)\n",
    "#         i += 1\n",
    "#         expts.distance_plot(pre, post, plots=(plot4, None), color=color)\n",
    "# plot4.setXRange(20e-6, 200e-6)\n",
    "# plot4.setYRange(0, 0.7)\n",
    "\n",
    "\n",
    "\n",
    "plot5 = pd.plot(title='pvalb connectivity')\n",
    "plot5.addLegend()\n",
    "expts.distance_plot('pvalb', 'pvalb', plots=(plot5, None), color=(200, 100, 0))\n",
    "expts.distance_plot('pvalb', ex_types, plots=(plot5, None), color=(0, 150, 255))\n",
    "expts.distance_plot('pvalb', 'sst', plots=(plot5, None), color=(200, 0, 200))\n",
    "expts.distance_plot('pvalb', 'vip', plots=(plot5, None), color=(0, 200, 0))\n",
    "plot5.setXRange(30e-6, 200e-6)\n",
    "plot5.setYRange(0, 0.7)\n",
    "plot5.resize(600, 300)\n",
    "\n",
    "plot6 = pd.plot(title='sst connectivity')\n",
    "plot6.addLegend()\n",
    "expts.distance_plot('sst', 'vip', plots=(plot6, None), color=(0, 200, 0))\n",
    "expts.distance_plot('sst', 'pvalb', plots=(plot6, None), color=(200, 100, 0))\n",
    "expts.distance_plot('sst', ex_types, plots=(plot6, None), color=(0, 150, 255))\n",
    "expts.distance_plot('sst', 'sst', plots=(plot6, None), color=(200, 0, 200))\n",
    "plot6.setXRange(30e-6, 200e-6)\n",
    "plot6.setYRange(0, 0.7)\n",
    "plot6.resize(600, 300)\n",
    "\n",
    "plot7 = pd.plot(title='vip connectivity')\n",
    "plot7.addLegend()\n",
    "expts.distance_plot('vip', 'pvalb', plots=(plot7, None), color=(200, 100, 0))\n",
    "expts.distance_plot('vip', 'sst', plots=(plot7, None), color=(200, 0, 200))\n",
    "expts.distance_plot('vip', 'vip', plots=(plot7, None), color=(0, 200, 0))\n",
    "plot7.setXRange(30e-6, 200e-6)\n",
    "plot7.setYRange(0, 0.7)\n",
    "plot7.resize(600, 300)\n",
    "\n",
    "\n",
    "plot8 = pd.plot(title='tlx3 connectivity')\n",
    "plot8.addLegend()\n",
    "expts.distance_plot('tlx3', ex_types, plots=(plot8, None), color=(0, 150, 255))\n",
    "expts.distance_plot('tlx3', 'pvalb', plots=(plot8, None), color=(200, 100, 0))\n",
    "expts.distance_plot('tlx3', 'sst', plots=(plot8, None), color=(200, 0, 200))\n",
    "# expts.distance_plot('tlx3', 'vip', plots=(plot8, None), color=(200, 0, 0))\n",
    "plot8.setXRange(30e-6, 200e-6)\n",
    "plot8.setYRange(0, 0.7)\n",
    "plot8.resize(600, 300)\n"
   ]
  },
  {
   "cell_type": "code",
   "execution_count": 17,
   "metadata": {},
   "outputs": [
    {
     "ename": "ModuleNotFoundError",
     "evalue": "No module named 'ipfx'",
     "output_type": "error",
     "traceback": [
      "\u001b[1;31m---------------------------------------------------------------------------\u001b[0m",
      "\u001b[1;31mModuleNotFoundError\u001b[0m                       Traceback (most recent call last)",
      "\u001b[1;32m<ipython-input-17-c1c972bbcd12>\u001b[0m in \u001b[0;36m<module>\u001b[1;34m\u001b[0m\n\u001b[0;32m      3\u001b[0m \u001b[1;32mimport\u001b[0m \u001b[0mtraceback\u001b[0m\u001b[1;33m,\u001b[0m \u001b[0msys\u001b[0m\u001b[1;33m\u001b[0m\u001b[1;33m\u001b[0m\u001b[0m\n\u001b[0;32m      4\u001b[0m \u001b[1;32mimport\u001b[0m \u001b[0mnumpy\u001b[0m \u001b[1;32mas\u001b[0m \u001b[0mnp\u001b[0m\u001b[1;33m\u001b[0m\u001b[1;33m\u001b[0m\u001b[0m\n\u001b[1;32m----> 5\u001b[1;33m \u001b[1;32mfrom\u001b[0m \u001b[0mipfx\u001b[0m\u001b[1;33m.\u001b[0m\u001b[0mdata_set_features\u001b[0m \u001b[1;32mimport\u001b[0m \u001b[0mextractors_for_sweeps\u001b[0m\u001b[1;33m\u001b[0m\u001b[1;33m\u001b[0m\u001b[0m\n\u001b[0m\u001b[0;32m      6\u001b[0m \u001b[1;32mfrom\u001b[0m \u001b[0mipfx\u001b[0m\u001b[1;33m.\u001b[0m\u001b[0mstimulus_protocol_analysis\u001b[0m \u001b[1;32mimport\u001b[0m \u001b[0mLongSquareAnalysis\u001b[0m\u001b[1;33m\u001b[0m\u001b[1;33m\u001b[0m\u001b[0m\n\u001b[0;32m      7\u001b[0m \u001b[1;32mfrom\u001b[0m \u001b[0mipfx\u001b[0m\u001b[1;33m.\u001b[0m\u001b[0mephys_data_set\u001b[0m \u001b[1;32mimport\u001b[0m \u001b[0mSweep\u001b[0m\u001b[1;33m,\u001b[0m \u001b[0mSweepSet\u001b[0m\u001b[1;33m\u001b[0m\u001b[1;33m\u001b[0m\u001b[0m\n",
      "\u001b[1;31mModuleNotFoundError\u001b[0m: No module named 'ipfx'"
     ]
    }
   ],
   "source": [
    "from __future__ import print_function, division\n",
    "\n",
    "import traceback, sys\n",
    "import numpy as np   \n",
    "from ipfx.data_set_features import extractors_for_sweeps\n",
    "from ipfx.stimulus_protocol_analysis import LongSquareAnalysis\n",
    "from ipfx.ephys_data_set import Sweep, SweepSet\n",
    "from .pipeline_module import MultipatchPipelineModule\n",
    "from .experiment import ExperimentPipelineModule\n",
    "from ...nwb_recordings import get_lp_sweeps, get_pulse_times, get_db_recording\n",
    "\n",
    "class IntrinsicPipelineModule(MultipatchPipelineModule):\n",
    "    \n",
    "    name = 'intrinsic'\n",
    "    dependencies = [ExperimentPipelineModule, DatasetPipelineModule]\n",
    "    table_group = ['intrinsic']\n",
    "\n",
    "    @classmethod\n",
    "    def create_db_entries(cls, job, session):\n",
    "        errors = []\n",
    "        db = job['database']\n",
    "        job_id = job['job_id']\n",
    "\n",
    "        # Load experiment from DB\n",
    "        expt = db.experiment_from_timestamp(job_id, session=session)\n",
    "        nwb = expt.data\n",
    "        if nwb is None:\n",
    "            raise Exception('No NWB data for this experiment')\n",
    "        sweeps = nwb.contents\n",
    "\n",
    "        n_cells = len(expt.cell_list)\n",
    "        ipfx_fail = 0\n",
    "        for cell in expt.cell_list:\n",
    "            qc_pass = True\n",
    "            dev_id = cell.electrode.device_id\n",
    "            target_v, if_curve = get_lp_sweeps(sweeps, dev_id)\n",
    "            lp_sweeps = target_v + if_curve\n",
    "            if len(lp_sweeps) == 0:\n",
    "                errors.append('No long pulse sweeps for cell %s' % cell.ext_id)\n",
    "                continue\n",
    "            recs = [rec[dev_id] for rec in lp_sweeps]\n",
    "            min_pulse_dur = np.inf\n",
    "            sweep_list = []\n",
    "            for rec in recs:\n",
    "                if rec.clamp_mode != 'ic':\n",
    "                    continue\n",
    "\n",
    "                db_rec = get_db_recording(expt, rec)\n",
    "                if db_rec is None or db_rec.patch_clamp_recording.qc_pass is False:\n",
    "                    continue\n",
    "\n",
    "                pulse_times = get_pulse_times(rec)\n",
    "                if pulse_times is None:\n",
    "                    continue\n",
    "                \n",
    "                # pulses may have different durations as well, so we just use the smallest duration\n",
    "                start, end = pulse_times\n",
    "                min_pulse_dur = min(min_pulse_dur, end-start)\n",
    "                \n",
    "                sweep = MPSweep(rec, -start)\n",
    "                if sweep is None:\n",
    "                    continue\n",
    "                sweep_list.append(sweep)\n",
    "            \n",
    "            if len(sweep_list) == 0:\n",
    "                errors.append('No sweeps passed qc for cell %s' % cell.ext_id)\n",
    "                continue\n",
    "\n",
    "            sweep_set = SweepSet(sweep_list)    \n",
    "            spx, spfx = extractors_for_sweeps(sweep_set, start=0, end=min_pulse_dur)\n",
    "            lsa = LongSquareAnalysis(spx, spfx, subthresh_min_amp=-200)\n",
    "            \n",
    "            try:\n",
    "                analysis = lsa.analyze(sweep_set)\n",
    "            except Exception as exc:\n",
    "                errors.append('Error running IPFX analysis for cell %s: %s' % (cell.ext_id, str(exc)))\n",
    "                ipfx_fail += 1\n",
    "                continue\n",
    "\n",
    "            if ipfx_fail == n_cells and n_cells > 1:\n",
    "                raise Exception('All cells failed IPFX analysis')\n",
    "                continue\n",
    "            \n",
    "            spike_features = lsa.mean_features_first_spike(analysis['spikes_set'])\n",
    "            up_down = spike_features['upstroke_downstroke_ratio']\n",
    "            rheo = analysis['rheobase_i']\n",
    "            fi_slope = analysis['fi_fit_slope']\n",
    "            input_r = analysis['input_resistance']\n",
    "            sag = analysis['sag']\n",
    "            avg_rate = np.mean(analysis['spiking_sweeps'].avg_rate)\n",
    "            adapt = np.mean(analysis['spiking_sweeps'].adapt)\n",
    "            \n",
    "            results = {\n",
    "                'upstroke_downstroke_ratio': up_down,\n",
    "                'rheobase': rheo,\n",
    "                'fi_slope': fi_slope,\n",
    "                'input_resistance': input_r,\n",
    "                'sag': sag,\n",
    "                'avg_firing_rate': avg_rate,\n",
    "                'adaptation_index': adapt,\n",
    "            }\n",
    "\n",
    "            # Write new record to DB\n",
    "            conn = db.Intrinsic(cell_id=cell.id, **results)\n",
    "            session.add(conn)\n",
    "\n",
    "        return errors\n",
    "\n",
    "    def job_records(self, job_ids, session):\n",
    "        \"\"\"Return a list of records associated with a list of job IDs.\n",
    "        \n",
    "        This method is used by drop_jobs to delete records for specific job IDs.\n",
    "        \"\"\"\n",
    "        db = self.database\n",
    "        q = session.query(db.Intrinsic)\n",
    "        q = q.filter(db.Intrinsic.cell_id==db.Cell.id)\n",
    "        q = q.filter(db.Cell.experiment_id==db.Experiment.id)\n",
    "        q = q.filter(db.Experiment.ext_id.in_(job_ids))\n",
    "        return q.all()\n",
    "\n",
    "class MPSweep(Sweep):\n",
    "    \"\"\"Adapter for neuroanalysis.Recording => ipfx.Sweep\n",
    "    \"\"\"\n",
    "    def __init__(self, rec, t0):\n",
    "        # pulses may have different start times, so we shift time values to make all pulses start at t=0\n",
    "        pri = rec['primary'].copy(t0=t0)\n",
    "        cmd = rec['command'].copy()\n",
    "        t = pri.time_values\n",
    "        v = pri.data * 1e3  # convert to mV\n",
    "        holding = [i for i in rec.stimulus.items if i.description=='holding current']\n",
    "        if len(holding) == 0:\n",
    "            return None\n",
    "        holding = holding[0].amplitude\n",
    "        i = (cmd.data - holding) * 1e12   # convert to pA with holding current removed\n",
    "        srate = pri.sample_rate\n",
    "        sweep_num = rec.parent.key\n",
    "        clamp_mode = rec.clamp_mode  # this will be 'ic' or 'vc'; not sure if that's right\n",
    "\n",
    "        Sweep.__init__(self, t, v, i, clamp_mode, srate, sweep_number=sweep_num)"
   ]
  },
  {
   "cell_type": "code",
   "execution_count": 16,
   "metadata": {},
   "outputs": [
    {
     "ename": "ImportError",
     "evalue": "cannot import name 'make_table' from '__main__' (unknown location)",
     "output_type": "error",
     "traceback": [
      "\u001b[1;31m---------------------------------------------------------------------------\u001b[0m",
      "\u001b[1;31mImportError\u001b[0m                               Traceback (most recent call last)",
      "\u001b[1;32m<ipython-input-16-e5a9424f221d>\u001b[0m in \u001b[0;36m<module>\u001b[1;34m\u001b[0m\n\u001b[0;32m      1\u001b[0m \u001b[1;32mfrom\u001b[0m \u001b[0msqlalchemy\u001b[0m\u001b[1;33m.\u001b[0m\u001b[0morm\u001b[0m \u001b[1;32mimport\u001b[0m \u001b[0mrelationship\u001b[0m\u001b[1;33m\u001b[0m\u001b[1;33m\u001b[0m\u001b[0m\n\u001b[1;32m----> 2\u001b[1;33m \u001b[1;32mfrom\u001b[0m \u001b[1;33m.\u001b[0m \u001b[1;32mimport\u001b[0m \u001b[0mmake_table\u001b[0m\u001b[1;33m\u001b[0m\u001b[1;33m\u001b[0m\u001b[0m\n\u001b[0m\u001b[0;32m      3\u001b[0m \u001b[1;32mfrom\u001b[0m \u001b[1;33m.\u001b[0m\u001b[0mexperiment\u001b[0m \u001b[1;32mimport\u001b[0m \u001b[0mCell\u001b[0m\u001b[1;33m\u001b[0m\u001b[1;33m\u001b[0m\u001b[0m\n\u001b[0;32m      4\u001b[0m \u001b[1;33m\u001b[0m\u001b[0m\n\u001b[0;32m      5\u001b[0m \u001b[1;33m\u001b[0m\u001b[0m\n",
      "\u001b[1;31mImportError\u001b[0m: cannot import name 'make_table' from '__main__' (unknown location)"
     ]
    }
   ],
   "source": [
    "from sqlalchemy.orm import relationship\n",
    "from . import make_table\n",
    "from .experiment import Cell\n",
    "\n",
    "\n",
    "__all__ = ['Intrinsic']\n",
    "\n",
    "\n",
    "Intrinsic = make_table(\n",
    "    name='intrinsic',\n",
    "    comment= \"Describes the intrinsic properties of cells using 1 sec long current steps.\",\n",
    "    columns=[\n",
    "        ('cell_id', 'cell.id', 'The ID of the entry in the cell table to which these results apply', {'index': True}),\n",
    "        ('upstroke_downstroke_ratio', 'float', 'The upstroke-downstroke ratio of the first spike', {'index': True}),\n",
    "        ('rheobase', 'float', 'Current at rheobase', {'index': True}),\n",
    "        ('fi_slope', 'float', 'Slope of the current-spiking relationship', {'index': True}),\n",
    "        ('input_resistance', 'float', 'Input resistance of the cell', {'index': True}),\n",
    "        ('sag', 'float', 'Hyperpolarizing sag measured from ~ -100mV current injection', {'index': True}),\n",
    "        ('avg_firing_rate', 'float', 'Average firing rate of cell', {'index': True}),\n",
    "        ('adaptation_index', 'float', 'Average adaptation index', {'index': True}),\n",
    "        \n",
    "    ]\n",
    ")\n",
    "\n",
    "Cell.intrinsic = relationship(Intrinsic, back_populates=\"cell\", cascade=\"delete\", single_parent=True, uselist=False)\n",
    "Intrinsic.cell = relationship(Cell, back_populates=\"intrinsic\", single_parent=True)"
   ]
  },
  {
   "cell_type": "code",
   "execution_count": 18,
   "metadata": {},
   "outputs": [
    {
     "ename": "ModuleNotFoundError",
     "evalue": "No module named 'aisynphys'",
     "output_type": "error",
     "traceback": [
      "\u001b[1;31m---------------------------------------------------------------------------\u001b[0m",
      "\u001b[1;31mModuleNotFoundError\u001b[0m                       Traceback (most recent call last)",
      "\u001b[1;32m<ipython-input-18-9883dc9d2d88>\u001b[0m in \u001b[0;36m<module>\u001b[1;34m\u001b[0m\n\u001b[1;32m----> 1\u001b[1;33m \u001b[1;32mfrom\u001b[0m \u001b[0maisynphys\u001b[0m\u001b[1;33m.\u001b[0m\u001b[0mdatabase\u001b[0m \u001b[1;32mimport\u001b[0m \u001b[0mdefault_db\u001b[0m \u001b[1;32mas\u001b[0m \u001b[0mdb\u001b[0m\u001b[1;33m\u001b[0m\u001b[1;33m\u001b[0m\u001b[0m\n\u001b[0m\u001b[0;32m      2\u001b[0m \u001b[0mquery\u001b[0m \u001b[1;33m=\u001b[0m \u001b[0mdb\u001b[0m\u001b[1;33m.\u001b[0m\u001b[0mquery\u001b[0m\u001b[1;33m(\u001b[0m\u001b[0mdb\u001b[0m\u001b[1;33m.\u001b[0m\u001b[0mIntrinsic\u001b[0m\u001b[1;33m)\u001b[0m\u001b[1;33m\u001b[0m\u001b[1;33m\u001b[0m\u001b[0m\n\u001b[0;32m      3\u001b[0m \u001b[0mdataframe\u001b[0m \u001b[1;33m=\u001b[0m \u001b[0mquery\u001b[0m\u001b[1;33m.\u001b[0m\u001b[0mdataframe\u001b[0m\u001b[1;33m(\u001b[0m\u001b[1;33m)\u001b[0m\u001b[1;33m\u001b[0m\u001b[1;33m\u001b[0m\u001b[0m\n\u001b[0;32m      4\u001b[0m \u001b[0mdataframe\u001b[0m\u001b[1;33m.\u001b[0m\u001b[0mhead\u001b[0m\u001b[1;33m(\u001b[0m\u001b[1;33m)\u001b[0m\u001b[1;33m\u001b[0m\u001b[1;33m\u001b[0m\u001b[0m\n",
      "\u001b[1;31mModuleNotFoundError\u001b[0m: No module named 'aisynphys'"
     ]
    }
   ],
   "source": [
    "from aisynphys.database import default_db as db\n",
    ">>> query = db.query(db.Intrinsic)\n",
    ">>> dataframe = query.dataframe()\n",
    ">>> dataframe.head()"
   ]
  },
  {
   "cell_type": "code",
   "execution_count": null,
   "metadata": {},
   "outputs": [],
   "source": []
  },
  {
   "cell_type": "code",
   "execution_count": null,
   "metadata": {},
   "outputs": [],
   "source": []
  },
  {
   "cell_type": "code",
   "execution_count": null,
   "metadata": {},
   "outputs": [],
   "source": []
  },
  {
   "cell_type": "code",
   "execution_count": null,
   "metadata": {},
   "outputs": [],
   "source": []
  }
 ],
 "metadata": {
  "kernelspec": {
   "display_name": "Python 3",
   "language": "python",
   "name": "python3"
  },
  "language_info": {
   "codemirror_mode": {
    "name": "ipython",
    "version": 3
   },
   "file_extension": ".py",
   "mimetype": "text/x-python",
   "name": "python",
   "nbconvert_exporter": "python",
   "pygments_lexer": "ipython3",
   "version": "3.7.4"
  }
 },
 "nbformat": 4,
 "nbformat_minor": 2
}
