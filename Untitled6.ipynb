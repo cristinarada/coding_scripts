{
 "cells": [
  {
   "cell_type": "code",
   "execution_count": null,
   "metadata": {},
   "outputs": [],
   "source": [
    "import pandas as pd\n",
    "import matplotlib.pyplot\n",
    "import seaborn as sns"
   ]
  },
  {
   "cell_type": "code",
   "execution_count": null,
   "metadata": {},
   "outputs": [],
   "source": [
    "data = pd.read_csv('filerandom.csv')"
   ]
  },
  {
   "cell_type": "code",
   "execution_count": null,
   "metadata": {},
   "outputs": [],
   "source": [
    "data"
   ]
  },
  {
   "cell_type": "code",
   "execution_count": null,
   "metadata": {},
   "outputs": [],
   "source": [
    "sns.violinplot(x='nucleus', y='score', data=data)"
   ]
  },
  {
   "cell_type": "code",
   "execution_count": null,
   "metadata": {},
   "outputs": [],
   "source": [
    "sns.scatterplot(x='nucleus', y='score', data=data)"
   ]
  },
  {
   "cell_type": "code",
   "execution_count": null,
   "metadata": {},
   "outputs": [],
   "source": [
    "sns.barplot(x='nucleus', y='score', data=data)"
   ]
  },
  {
   "cell_type": "code",
   "execution_count": null,
   "metadata": {},
   "outputs": [],
   "source": [
    "sns.swarmplot(x='nucleus', y='score', data=data)"
   ]
  },
  {
   "cell_type": "code",
   "execution_count": 1,
   "metadata": {},
   "outputs": [],
   "source": [
    "import numpy as np"
   ]
  },
  {
   "cell_type": "code",
   "execution_count": 6,
   "metadata": {},
   "outputs": [
    {
     "data": {
      "text/plain": [
       "array(['nucleus,score', 'nucleus_absent,1', 'nucleus_present,1',\n",
       "       'nucleus_present,1', 'nucleus_present,1', 'nucleus_present,1',\n",
       "       'nucleus_absent,1', 'nucleus_present,1', 'nucleus_absent,1',\n",
       "       'nucleus_present,1', 'nucleus_present,1', 'nucleus_present,1',\n",
       "       'nucleus_absent,1', 'nucleus_present,1', 'nucleus_present,1',\n",
       "       'nucleus_present,1', 'nucleus_present,1', 'nucleus_absent,1',\n",
       "       'nucleus_present,1', 'nucleus_absent,1', 'nucleus_present,1',\n",
       "       'nucleus_present,1', 'nucleus_present,0.782024063',\n",
       "       'nucleus_present,0.782024063', 'nucleus_present,0.782024063',\n",
       "       'nucleus_present,0.782024063', 'nucleus_present,0.681172041',\n",
       "       'nucleus_present,0.640849887', 'nucleus_present,0.504462525'],\n",
       "      dtype='<U27')"
      ]
     },
     "execution_count": 6,
     "metadata": {},
     "output_type": "execute_result"
    }
   ],
   "source": [
    "np.genfromtxt('filerandom.csv', dtype='str')"
   ]
  },
  {
   "cell_type": "code",
   "execution_count": null,
   "metadata": {},
   "outputs": [],
   "source": []
  },
  {
   "cell_type": "code",
   "execution_count": null,
   "metadata": {},
   "outputs": [],
   "source": []
  },
  {
   "cell_type": "code",
   "execution_count": null,
   "metadata": {},
   "outputs": [],
   "source": [
    "import numpy\n",
    "#numpy.loadtxt(fname= 'filerandom.csv', delimiter= ',')\n",
    "import pandas as pd\n",
    "czzz\n"
   ]
  },
  {
   "cell_type": "code",
   "execution_count": null,
   "metadata": {},
   "outputs": [],
   "source": [
    "print (data.shape)"
   ]
  },
  {
   "cell_type": "code",
   "execution_count": null,
   "metadata": {},
   "outputs": [],
   "source": [
    "data"
   ]
  },
  {
   "cell_type": "code",
   "execution_count": null,
   "metadata": {},
   "outputs": [],
   "source": [
    "import csv\n",
    "\n",
    "results = []\n",
    "\n",
    "with open('filerandom.csv','r') as f:\n",
    "    lines = csv.reader(f)\n",
    "    for line in lines:\n",
    "        results.append([[int(i)] for i in line])"
   ]
  },
  {
   "cell_type": "code",
   "execution_count": null,
   "metadata": {},
   "outputs": [],
   "source": [
    "import csv \n",
    "with open('filerandom.csv','rb') as csvfile: \n",
    "    reader = csv.reader(csvfile, delimiter=',', quotechar='|')"
   ]
  },
  {
   "cell_type": "code",
   "execution_count": null,
   "metadata": {},
   "outputs": [],
   "source": [
    "\n",
    "\n",
    "import csv\n",
    "\n",
    "output = []\n",
    "\n",
    "with open('filerandom.csv', 'r') as f:\n",
    "    content = csv.reader(f, delimiter=',')\n",
    "\n",
    "    for line in content:\n",
    "        clean_line = filter(None, line)\n",
    "        output.append([[int(i)] for i in clean_line])"
   ]
  },
  {
   "cell_type": "code",
   "execution_count": null,
   "metadata": {},
   "outputs": [],
   "source": [
    "numpy_array = numpy.genfromtxt(\"filerandom.csv\", delimiter=\",\", skip_header=1)"
   ]
  },
  {
   "cell_type": "code",
   "execution_count": null,
   "metadata": {},
   "outputs": [],
   "source": [
    "numpy_array"
   ]
  },
  {
   "cell_type": "code",
   "execution_count": null,
   "metadata": {},
   "outputs": [],
   "source": []
  }
 ],
 "metadata": {
  "kernelspec": {
   "display_name": "Python 3",
   "language": "python",
   "name": "python3"
  },
  "language_info": {
   "codemirror_mode": {
    "name": "ipython",
    "version": 3
   },
   "file_extension": ".py",
   "mimetype": "text/x-python",
   "name": "python",
   "nbconvert_exporter": "python",
   "pygments_lexer": "ipython3",
   "version": "3.7.4"
  }
 },
 "nbformat": 4,
 "nbformat_minor": 2
}
